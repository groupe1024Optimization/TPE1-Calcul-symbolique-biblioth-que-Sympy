{
 "cells": [
  {
   "attachments": {},
   "cell_type": "markdown",
   "metadata": {},
   "source": [
    "# ``INFO4127`` : OPTIMISATION 2"
   ]
  },
  {
   "attachments": {},
   "cell_type": "markdown",
   "metadata": {},
   "source": [
    "# Exposé : Calcul Symbolique avec SymPy"
   ]
  },
  {
   "attachments": {},
   "cell_type": "markdown",
   "metadata": {},
   "source": [
    "Membres du groupe :\n",
    "- MVOGO MONDOMAN Franck Stéphane : ``20Y058``\n",
    "- ETOUNDI TSANGA ELIHU FREDERIC : ``22Y567``\n",
    "- ABANDA ARMAND WILFRIED : ``21T2487``"
   ]
  },
  {
   "attachments": {},
   "cell_type": "markdown",
   "metadata": {},
   "source": [
    "SymPy est une bibliothèque Python pour le calcul symbolique (algèbre symbolique).\n",
    "Contrairement au calcul numérique, le calcul symbolique manipule des expressions mathématiques avec des variables symboliques (symboles), permettant des solutions exactes."
   ]
  },
  {
   "attachments": {},
   "cell_type": "markdown",
   "metadata": {},
   "source": [
    "\n",
    "## 0. INSTALLATION DE LA BIBLIOTHEQUE"
   ]
  },
  {
   "cell_type": "code",
   "execution_count": 22,
   "metadata": {},
   "outputs": [
    {
     "name": "stdout",
     "output_type": "stream",
     "text": [
      "Requirement already satisfied: sympy in c:\\users\\stephens\\appdata\\local\\programs\\python\\python311\\lib\\site-packages (1.13.2)\n",
      "Requirement already satisfied: mpmath<1.4,>=1.1.0 in c:\\users\\stephens\\appdata\\local\\programs\\python\\python311\\lib\\site-packages (from sympy) (1.3.0)\n",
      "Note: you may need to restart the kernel to use updated packages.\n"
     ]
    }
   ],
   "source": [
    "pip install sympy"
   ]
  },
  {
   "attachments": {},
   "cell_type": "markdown",
   "metadata": {},
   "source": [
    "\n",
    "## 1. INTRODUCTION ET CONFIGURATION"
   ]
  },
  {
   "cell_type": "code",
   "execution_count": 23,
   "metadata": {},
   "outputs": [
    {
     "name": "stdout",
     "output_type": "stream",
     "text": [
      "==================================================\n",
      "CALCUL SYMBOLIQUE AVEC SYMPY\n",
      "==================================================\n"
     ]
    }
   ],
   "source": [
    "import sympy as sp\n",
    "from sympy import symbols, pi, E, I, oo\n",
    "from sympy import sin, cos, tan, exp, log, sqrt\n",
    "from sympy import diff, integrate, limit, summation, Derivative\n",
    "from sympy import solve, simplify, expand, factor\n",
    "from sympy import Matrix as Mat\n",
    "\n",
    "# Affichage mathématique élégant\n",
    "sp.init_printing()\n",
    "\n",
    "print(\"=\" * 50)\n",
    "print(\"CALCUL SYMBOLIQUE AVEC SYMPY\")\n",
    "print(\"=\" * 50)"
   ]
  },
  {
   "attachments": {},
   "cell_type": "markdown",
   "metadata": {},
   "source": [
    "## 2. CRÉATION DE SYMBOLES"
   ]
  },
  {
   "cell_type": "code",
   "execution_count": 24,
   "metadata": {},
   "outputs": [
    {
     "name": "stdout",
     "output_type": "stream",
     "text": [
      "\n",
      "### 1. DÉCLARATION DE SYMBOLES ###\n",
      "\n",
      "Variables symboliques créées : x, y, z\n",
      "Type de x : <class 'sympy.core.symbol.Symbol'>\n"
     ]
    }
   ],
   "source": [
    "print(\"\\n### 1. DÉCLARATION DE SYMBOLES ###\\n\")\n",
    "\n",
    "# Déclaration de variables symboliques\n",
    "x, y, z = symbols('x y z')\n",
    "a, b, c = symbols('a b c', real=True)  # Variables réelles\n",
    "n = symbols('n', integer=True, positive=True)  # Entier positif\n",
    "\n",
    "print(f\"Variables symboliques créées : x, y, z\")\n",
    "print(f\"Type de x : {type(x)}\")"
   ]
  },
  {
   "attachments": {},
   "cell_type": "markdown",
   "metadata": {},
   "source": [
    "## 3. MANIPULATION D'EXPRESSIONS"
   ]
  },
  {
   "cell_type": "code",
   "execution_count": 25,
   "metadata": {},
   "outputs": [
    {
     "name": "stdout",
     "output_type": "stream",
     "text": [
      "\n",
      "### 2. MANIPULATION D'EXPRESSIONS ###\n",
      "\n",
      "Expression 1 : x**2 + 2*x + 1\n",
      "Expression 2 : (x + 1)**2\n",
      "Développement de (x+1)² : x**2 + 2*x + 1\n",
      "Factorisation de x²+2x+1 : (x + 1)**2\n",
      "Factorisation de x³-1 : (x - 1)*(x**2 + x + 1)\n",
      "Simplification de (x²-1)/(x-1) : x + 1\n",
      "Cancel de (x²+2x+1)/(x+1) : x + 1\n",
      "\n",
      "Collect de 2*x**2 + x + 1 selon x : 2*x**2 + x + 1\n",
      "\n",
      "Together de 1/x + 1/y : (x + y)/(x*y)\n",
      "\n",
      "Décomposition en éléments simples :\n",
      "(2*x - 1)/(x**2 + x + 1) - 1/(x + 4) + 3/x\n"
     ]
    }
   ],
   "source": [
    "print(\"\\n### 2. MANIPULATION D'EXPRESSIONS ###\\n\")\n",
    "\n",
    "# Création d'expressions\n",
    "expr1 = x**2 + 2*x + 1\n",
    "expr2 = (x + 1)**2\n",
    "\n",
    "print(f\"Expression 1 : {expr1}\")\n",
    "print(f\"Expression 2 : {expr2}\")\n",
    "\n",
    "# Développement\n",
    "developed = expand(expr2)\n",
    "print(f\"Développement de (x+1)² : {developed}\")\n",
    "\n",
    "# Factorisation\n",
    "factored = factor(expr1)\n",
    "print(f\"Factorisation de x²+2x+1 : {factored}\")\n",
    "\n",
    "factored2 = factor(x**3 - 1)\n",
    "print(f\"Factorisation de x³-1 : {factored2}\")\n",
    "\n",
    "# Simplification\n",
    "expr3 = (x**2 - 1)/(x - 1)\n",
    "simplified = simplify(expr3)\n",
    "print(f\"Simplification de (x²-1)/(x-1) : {simplified}\")\n",
    "\n",
    "# Cancel : simplification de fractions rationnelles\n",
    "from sympy import cancel\n",
    "frac = (x**2 + 2*x + 1)/(x + 1)\n",
    "canceled = cancel(frac)\n",
    "print(f\"Cancel de (x²+2x+1)/(x+1) : {canceled}\")\n",
    "\n",
    "# Collect : regroupement de termes\n",
    "expr4 = x*y + x - 3 + 2*x**2 - y*x + 4\n",
    "collected = sp.collect(expr4, x)\n",
    "print(f\"\\nCollect de {expr4} selon x : {collected}\")\n",
    "\n",
    "# Together : mise sur même dénominateur\n",
    "from sympy import together\n",
    "frac_sum = 1/x + 1/y\n",
    "together_result = together(frac_sum)\n",
    "print(f\"\\nTogether de 1/x + 1/y : {together_result}\")\n",
    "\n",
    "# Apart : décomposition en éléments simples\n",
    "from sympy import apart\n",
    "rational = (4*x**3 + 21*x**2 + 10*x + 12)/(x**4 + 5*x**3 + 5*x**2 + 4*x)\n",
    "decomposed = apart(rational, x)\n",
    "print(f\"\\nDécomposition en éléments simples :\")\n",
    "print(f\"{decomposed}\")\n"
   ]
  },
  {
   "attachments": {},
   "cell_type": "markdown",
   "metadata": {},
   "source": [
    "## 4. CALCUL DIFFÉRENTIEL"
   ]
  },
  {
   "cell_type": "code",
   "execution_count": 26,
   "metadata": {},
   "outputs": [
    {
     "name": "stdout",
     "output_type": "stream",
     "text": [
      "\n",
      "### 3. CALCUL DIFFÉRENTIEL ###\n",
      "\n",
      "Fonction : f(x) = x**3 + 3*x**2 - 2*x + 5\n",
      "Dérivée première : f'(x) = 3*x**2 + 6*x - 2\n",
      "Dérivée seconde : f''(x) = 6*(x + 1)\n",
      "Dérivée troisième : f'''(x) = 6\n",
      "\n",
      "Fonction : g(x,y) = x**2*y + x*y**3\n",
      "∂g/∂x = 2*x*y + y**3\n",
      "∂g/∂y = x**2 + 3*x*y**2\n",
      "∂²g/∂x∂y = 2*x + 3*y**2\n",
      "\n",
      "Dérivée de sin(x)·cos(x) : -sin(x)**2 + cos(x)**2\n",
      "Simplifiée : cos(2*x)\n",
      "\n",
      "Dérivée symbolique : Derivative(sin(x**2), x)\n",
      "Évaluée : 2*x*cos(x**2)\n",
      "\n",
      "Gradient de f(x,y,z) = x²+y²+z² : [2*x, 2*y, 2*z]\n"
     ]
    }
   ],
   "source": [
    "print(\"\\n### 3. CALCUL DIFFÉRENTIEL ###\\n\")\n",
    "\n",
    "# Dérivées\n",
    "f = x**3 + 3*x**2 - 2*x + 5\n",
    "df_dx = diff(f, x)\n",
    "d2f_dx2 = diff(f, x, 2)  # Dérivée seconde\n",
    "d3f_dx3 = diff(f, x, 3)  # Dérivée troisième\n",
    "\n",
    "print(f\"Fonction : f(x) = {f}\")\n",
    "print(f\"Dérivée première : f'(x) = {df_dx}\")\n",
    "print(f\"Dérivée seconde : f''(x) = {d2f_dx2}\")\n",
    "print(f\"Dérivée troisième : f'''(x) = {d3f_dx3}\")\n",
    "\n",
    "# Dérivées partielles\n",
    "g = x**2 * y + y**3 * x\n",
    "dg_dx = diff(g, x)\n",
    "dg_dy = diff(g, y)\n",
    "d2g_dxdy = diff(g, x, y)  # Dérivée mixte\n",
    "\n",
    "print(f\"\\nFonction : g(x,y) = {g}\")\n",
    "print(f\"∂g/∂x = {dg_dx}\")\n",
    "print(f\"∂g/∂y = {dg_dy}\")\n",
    "print(f\"∂²g/∂x∂y = {d2g_dxdy}\")\n",
    "\n",
    "# Fonctions trigonométriques\n",
    "h = sin(x) * cos(x)\n",
    "dh = diff(h, x)\n",
    "print(f\"\\nDérivée de sin(x)·cos(x) : {dh}\")\n",
    "print(f\"Simplifiée : {simplify(dh)}\")\n",
    "\n",
    "\n",
    "# Dérivée non évaluée\n",
    "unevaluated_deriv = Derivative(sin(x**2), x)\n",
    "print(f\"\\nDérivée symbolique : {unevaluated_deriv}\")\n",
    "print(f\"Évaluée : {unevaluated_deriv.doit()}\")\n",
    "\n",
    "# Gradient (pour fonctions à plusieurs variables)\n",
    "f_multi = x**2 + y**2 + z**2\n",
    "grad_f = [diff(f_multi, var) for var in [x, y, z]]\n",
    "print(f\"\\nGradient de f(x,y,z) = x²+y²+z² : {grad_f}\")"
   ]
  },
  {
   "attachments": {},
   "cell_type": "markdown",
   "metadata": {},
   "source": [
    "## 5. CALCUL INTÉGRAL"
   ]
  },
  {
   "cell_type": "code",
   "execution_count": 27,
   "metadata": {},
   "outputs": [
    {
     "name": "stdout",
     "output_type": "stream",
     "text": [
      "\n",
      "### 4. CALCUL INTÉGRAL ###\n",
      "\n",
      "∫ x² dx = x**3/3\n",
      "∫ sin(x) dx = -cos(x)\n",
      "∫ e^(-x) dx = -exp(-x)\n",
      "∫ 1/(x²+1) dx = atan(x)\n",
      "\n",
      "∫₀¹ x² dx = 1/3\n",
      "∫₋∞^∞ e^(-x²) dx = sqrt(pi)\n",
      "Valeur numérique : 1.772454\n",
      "Intégrale de Gauss (loi normale) : 1\n",
      "\n",
      "∫₀¹∫₀² xy dy dx = 1\n",
      "∫₀¹∫₀ˣ (x²+y²) dy dx = x**3/3 + x/3\n",
      "\n",
      "Intégrale symbolique : Integral(cos(x**2), x)\n",
      "(Cette intégrale n'a pas de forme close simple)\n",
      "\n",
      "∫ x·e^x dx = (x - 1)*exp(x)\n"
     ]
    }
   ],
   "source": [
    "print(\"\\n### 4. CALCUL INTÉGRAL ###\\n\")\n",
    "\n",
    "# Intégrales indéfinies\n",
    "int1 = integrate(x**2, x)\n",
    "print(f\"∫ x² dx = {int1}\")\n",
    "\n",
    "int2 = integrate(sin(x), x)\n",
    "print(f\"∫ sin(x) dx = {int2}\")\n",
    "\n",
    "int3 = integrate(exp(-x), x)\n",
    "print(f\"∫ e^(-x) dx = {int3}\")\n",
    "\n",
    "int_rational = integrate(1/(x**2 + 1), x)\n",
    "print(f\"∫ 1/(x²+1) dx = {int_rational}\")\n",
    "\n",
    "# Intégrales définies\n",
    "int4 = integrate(x**2, (x, 0, 1))\n",
    "print(f\"\\n∫₀¹ x² dx = {int4}\")\n",
    "\n",
    "int5 = integrate(exp(-x**2), (x, -oo, oo))\n",
    "print(f\"∫₋∞^∞ e^(-x²) dx = {int5}\")\n",
    "print(f\"Valeur numérique : {float(int5):.6f}\")\n",
    "\n",
    "# Intégrale de Gauss\n",
    "gauss_int = integrate(exp(-x**2/2)/sqrt(2*pi), (x, -oo, oo))\n",
    "print(f\"Intégrale de Gauss (loi normale) : {gauss_int}\")\n",
    "\n",
    "# Intégrales multiples\n",
    "int6 = integrate(x*y, (x, 0, 1), (y, 0, 2))\n",
    "print(f\"\\n∫₀¹∫₀² xy dy dx = {int6}\")\n",
    "\n",
    "int7 = integrate(x**2 + y**2, (x, 0, 1), (y, 0, x))\n",
    "print(f\"∫₀¹∫₀ˣ (x²+y²) dy dx = {int7}\")\n",
    "\n",
    "# Intégrale non évaluée\n",
    "from sympy import Integral\n",
    "unevaluated_int = Integral(cos(x**2), x)\n",
    "print(f\"\\nIntégrale symbolique : {unevaluated_int}\")\n",
    "print(\"(Cette intégrale n'a pas de forme close simple)\")\n",
    "\n",
    "# Intégration par parties (implicite avec SymPy)\n",
    "int_by_parts = integrate(x*exp(x), x)\n",
    "print(f\"\\n∫ x·e^x dx = {int_by_parts}\")"
   ]
  },
  {
   "attachments": {},
   "cell_type": "markdown",
   "metadata": {},
   "source": [
    "## 6. LIMITES"
   ]
  },
  {
   "cell_type": "code",
   "execution_count": 28,
   "metadata": {},
   "outputs": [
    {
     "name": "stdout",
     "output_type": "stream",
     "text": [
      "\n",
      "### 5. CALCUL DE LIMITES ###\n",
      "\n",
      "lim(x→0) sin(x)/x = 1\n",
      "lim(x→∞) (1+1/x)^x = E\n",
      "lim(x→0) (e^x - 1)/x = 1\n",
      "\n",
      "lim(x→0⁺) 1/x = oo\n",
      "lim(x→0⁻) 1/x = -oo\n",
      "\n",
      "lim(x→∞) 1/x = 0\n",
      "lim(x→∞) x/e^x = 0\n",
      "lim(x→∞) (3x²+2x+1)/(x²-5) = 3\n",
      "\n",
      "lim(x→2) (x²-4)/(x-2) = 4\n",
      "lim(x→0) (1-cos(x))/x² = 1/2\n",
      "lim(x→0⁺) x·ln(x) = 0\n"
     ]
    }
   ],
   "source": [
    "print(\"\\n### 5. CALCUL DE LIMITES ###\\n\")\n",
    "\n",
    "# Limites classiques\n",
    "lim1 = limit(sin(x)/x, x, 0)\n",
    "print(f\"lim(x→0) sin(x)/x = {lim1}\")\n",
    "\n",
    "lim2 = limit((1 + 1/x)**x, x, oo)\n",
    "print(f\"lim(x→∞) (1+1/x)^x = {lim2}\")\n",
    "\n",
    "lim3 = limit((exp(x) - 1)/x, x, 0)\n",
    "print(f\"lim(x→0) (e^x - 1)/x = {lim3}\")\n",
    "\n",
    "# Limites à gauche et à droite\n",
    "lim_right = limit(1/x, x, 0, '+')\n",
    "lim_left = limit(1/x, x, 0, '-')\n",
    "print(f\"\\nlim(x→0⁺) 1/x = {lim_right}\")\n",
    "print(f\"lim(x→0⁻) 1/x = {lim_left}\")\n",
    "\n",
    "# Limite à l'infini\n",
    "lim_inf1 = limit(1/x, x, oo)\n",
    "print(f\"\\nlim(x→∞) 1/x = {lim_inf1}\")\n",
    "\n",
    "lim_inf2 = limit(x/exp(x), x, oo)\n",
    "print(f\"lim(x→∞) x/e^x = {lim_inf2}\")\n",
    "\n",
    "lim_inf3 = limit((3*x**2 + 2*x + 1)/(x**2 - 5), x, oo)\n",
    "print(f\"lim(x→∞) (3x²+2x+1)/(x²-5) = {lim_inf3}\")\n",
    "\n",
    "# Formes indéterminées (SymPy applique L'Hôpital automatiquement)\n",
    "lim_indeterminate = limit((x**2 - 4)/(x - 2), x, 2)\n",
    "print(f\"\\nlim(x→2) (x²-4)/(x-2) = {lim_indeterminate}\")\n",
    "\n",
    "# Limite trigonométrique\n",
    "lim_trig = limit((1 - cos(x))/x**2, x, 0)\n",
    "print(f\"lim(x→0) (1-cos(x))/x² = {lim_trig}\")\n",
    "\n",
    "# Limite avec ln\n",
    "lim_log = limit(x*log(x), x, 0, '+')\n",
    "print(f\"lim(x→0⁺) x·ln(x) = {lim_log}\")\n"
   ]
  },
  {
   "attachments": {},
   "cell_type": "markdown",
   "metadata": {},
   "source": [
    "## 7. RÉSOLUTION D'ÉQUATIONS"
   ]
  },
  {
   "cell_type": "code",
   "execution_count": 29,
   "metadata": {},
   "outputs": [
    {
     "name": "stdout",
     "output_type": "stream",
     "text": [
      "\n",
      "### 6. RÉSOLUTION D'ÉQUATIONS ###\n",
      "\n",
      "Solutions de x² - 4 = 0 : [-2, 2]\n",
      "Solutions de x² + 5x + 6 = 0 : [-3, -2]\n",
      "\n",
      "Système : x+y=5, x-y=1\n",
      "Solution : {x: 3, y: 2}\n",
      "\n",
      "Solutions de sin(x) = 1/2 : [0.523598775598299, 2.61799387799149]\n"
     ]
    }
   ],
   "source": [
    "print(\"\\n### 6. RÉSOLUTION D'ÉQUATIONS ###\\n\")\n",
    "\n",
    "# Équations algébriques\n",
    "eq1 = x**2 - 4\n",
    "sol1 = solve(eq1, x)\n",
    "print(f\"Solutions de x² - 4 = 0 : {sol1}\")\n",
    "\n",
    "eq2 = x**2 + 5*x + 6\n",
    "sol2 = solve(eq2, x)\n",
    "print(f\"Solutions de x² + 5x + 6 = 0 : {sol2}\")\n",
    "\n",
    "# Systèmes d'équations\n",
    "eq3 = [x + y - 5, x - y - 1]\n",
    "sol3 = solve(eq3, [x, y])\n",
    "print(f\"\\nSystème : x+y=5, x-y=1\")\n",
    "print(f\"Solution : {sol3}\")\n",
    "\n",
    "# Équations trigonométriques\n",
    "eq4 = sin(x) - 1/2\n",
    "sol4 = solve(eq4, x)\n",
    "print(f\"\\nSolutions de sin(x) = 1/2 : {sol4}\")"
   ]
  },
  {
   "attachments": {},
   "cell_type": "markdown",
   "metadata": {},
   "source": [
    "## 8. SÉRIES ET DÉVELOPPEMENTS"
   ]
  },
  {
   "cell_type": "code",
   "execution_count": 30,
   "metadata": {},
   "outputs": [
    {
     "name": "stdout",
     "output_type": "stream",
     "text": [
      "\n",
      "### 7. SÉRIES ET DÉVELOPPEMENTS ###\n",
      "\n",
      "Développement de Taylor de e^x (ordre 5) :\n",
      "1 + x + x**2/2 + x**3/6 + x**4/24 + O(x**5)\n",
      "\n",
      "Développement de Taylor de sin(x) (ordre 7) :\n",
      "x - x**3/6 + x**5/120 + O(x**7)\n",
      "\n",
      "Somme de 1/n² (série de Riemann) : pi**2/6\n",
      "Valeur numérique : 1.644934\n",
      "\n",
      "Développement de Taylor de ln(1+x) (ordre 6) :\n",
      "x - x**2/2 + x**3/3 - x**4/4 + x**5/5 + O(x**6)\n",
      "\n",
      "Développement de e^x autour de x=1 (ordre 5) :\n",
      "E + E*(x - 1) + E*(x - 1)**2/2 + E*(x - 1)**3/6 + E*(x - 1)**4/24 + O((x - 1)**5, (x, 1))\n",
      "\n",
      "Somme de 1/n² (série de Riemann, ζ(2)) : pi**2/6\n",
      "Valeur numérique : 1.644934\n",
      "\n",
      "Somme de 1/n! (développement de e) : E\n",
      "\n",
      "Somme géométrique Σ(1/2)^n : 2\n",
      "\n",
      "Somme symbolique : Sum(1/(n**2 + 1), (n, 1, oo))\n",
      "\n",
      "Produit Π(n) de 1 à 5 : 120\n",
      "\n",
      "Approximations de sin(π/4) ≈ 0.707107 :\n",
      "  Ordre 3 : 0.785398\n",
      "  Ordre 5 : 0.704653\n",
      "  Ordre 7 : 0.707143\n",
      "  Ordre 9 : 0.707106\n"
     ]
    }
   ],
   "source": [
    "print(\"\\n### 7. SÉRIES ET DÉVELOPPEMENTS ###\\n\")\n",
    "\n",
    "# Développement de Taylor\n",
    "f = exp(x)\n",
    "taylor_exp = f.series(x, 0, n=5)\n",
    "print(f\"Développement de Taylor de e^x (ordre 5) :\")\n",
    "print(f\"{taylor_exp}\")\n",
    "\n",
    "# Série de sin(x)\n",
    "taylor_sin = sin(x).series(x, 0, n=7)\n",
    "print(f\"\\nDéveloppement de Taylor de sin(x) (ordre 7) :\")\n",
    "print(f\"{taylor_sin}\")\n",
    "\n",
    "# Sommes de séries\n",
    "sum1 = summation(1/n**2, (n, 1, oo))\n",
    "print(f\"\\nSomme de 1/n² (série de Riemann) : {sum1}\")\n",
    "print(f\"Valeur numérique : {float(sum1):.6f}\")\n",
    "\n",
    "# Développement de ln(1+x)\n",
    "taylor_ln = log(1 + x).series(x, 0, n=6)\n",
    "print(f\"\\nDéveloppement de Taylor de ln(1+x) (ordre 6) :\")\n",
    "print(f\"{taylor_ln}\")\n",
    "\n",
    "# Développement autour d'un point différent de 0\n",
    "taylor_at_1 = exp(x).series(x, 1, n=5)\n",
    "print(f\"\\nDéveloppement de e^x autour de x=1 (ordre 5) :\")\n",
    "print(f\"{taylor_at_1}\")\n",
    "\n",
    "\n",
    "# Sommes de séries infinies\n",
    "sum1 = summation(1/n**2, (n, 1, oo))\n",
    "print(f\"\\nSomme de 1/n² (série de Riemann, ζ(2)) : {sum1}\")\n",
    "print(f\"Valeur numérique : {float(sum1):.6f}\")\n",
    "\n",
    "sum2 = summation(1/sp.factorial(n), (n, 0, oo))\n",
    "print(f\"\\nSomme de 1/n! (développement de e) : {sum2}\")\n",
    "\n",
    "# Série géométrique\n",
    "sum_geom = summation((1/2)**n, (n, 0, oo))\n",
    "print(f\"\\nSomme géométrique Σ(1/2)^n : {sum_geom}\")\n",
    "\n",
    "# Somme non évaluée\n",
    "from sympy import Sum\n",
    "unevaluated_sum = Sum(1/(n**2 + 1), (n, 1, oo))\n",
    "print(f\"\\nSomme symbolique : {unevaluated_sum}\")\n",
    "\n",
    "# Produit symbolique\n",
    "from sympy import Product\n",
    "prod = Product(n, (n, 1, 5))\n",
    "print(f\"\\nProduit Π(n) de 1 à 5 : {prod.doit()}\")\n",
    "\n",
    "# Application : approximation d'une fonction\n",
    "def approximate_sin(x_val, order):\n",
    "    \"\"\"Approxime sin(x) avec développement de Taylor\"\"\"\n",
    "    approx = sin(x).series(x, 0, n=order).removeO()\n",
    "    return approx.subs(x, x_val)\n",
    "\n",
    "print(f\"\\nApproximations de sin(π/4) ≈ {float(sin(pi/4)):.6f} :\")\n",
    "for order in [3, 5, 7, 9]:\n",
    "    approx_val = approximate_sin(pi/4, order)\n",
    "    print(f\"  Ordre {order} : {float(approx_val):.6f}\")\n"
   ]
  },
  {
   "attachments": {},
   "cell_type": "markdown",
   "metadata": {},
   "source": [
    "## 9. MATRICES ET ALGÈBRE LINÉAIRE"
   ]
  },
  {
   "cell_type": "code",
   "execution_count": 31,
   "metadata": {},
   "outputs": [
    {
     "name": "stdout",
     "output_type": "stream",
     "text": [
      "\n",
      "### 8. MATRICES ET ALGÈBRE LINÉAIRE ###\n",
      "\n",
      "Matrice M :\n",
      "Matrix([[1, 2], [3, 4]])\n",
      "\n",
      "Déterminant : -2\n",
      "\n",
      "Matrice inverse :\n",
      "Matrix([[-2, 1], [3/2, -1/2]])\n",
      "\n",
      "Vérification M·M⁻¹ :\n",
      "Matrix([[1, 0], [0, 1]])\n",
      "\n",
      "Transposée M^T :\n",
      "Matrix([[1, 3], [2, 4]])\n",
      "\n",
      "Valeurs propres : {5/2 - sqrt(33)/2: 1, 5/2 + sqrt(33)/2: 1}\n",
      "Vecteurs propres :\n",
      "  λ = 5/2 - sqrt(33)/2 (multiplicité 1) : Matrix([[-sqrt(33)/6 - 1/2], [1]])\n",
      "  λ = 5/2 + sqrt(33)/2 (multiplicité 1) : Matrix([[-1/2 + sqrt(33)/6], [1]])\n",
      "\n",
      "Matrice A (3×3) :\n",
      "Matrix([[1, 2, 3], [4, 5, 6], [7, 8, 9]])\n",
      "\n",
      "Rang de A : 2\n",
      "\n",
      "Noyau de A :\n",
      "  Matrix([[1, -2, 1]])\n",
      "\n",
      "Forme échelonnée réduite de A :\n",
      "Matrix([[1, 0, -1], [0, 1, 2], [0, 0, 0]])\n",
      "Colonnes pivots : (0, 1)\n",
      "\n",
      "Décomposition LU de [[2,3],[4,9]] :\n",
      "L = Matrix([[1, 0], [2, 1]])\n",
      "U = Matrix([[2, 3], [0, 3]])\n",
      "\n",
      "Diagonalisation de [[3, -2], [-2, 0]] :\n",
      "P = Matrix([[1, -2], [2, 1]])\n",
      "D = Matrix([[-1, 0], [0, 4]])\n",
      "Vérification : P·D·P⁻¹ = Matrix([[3, -2], [-2, 0]])\n",
      "\n",
      "Matrice symbolique :\n",
      "Matrix([[a, b], [c, a]])\n",
      "Déterminant : a**2 - b*c\n",
      "Trace : 2*a\n",
      "\n",
      "Matrice M = [[1, 1], [0, 1]]\n",
      "M² = [[1, 2], [0, 1]]\n",
      "M³ = [[1, 3], [0, 1]]\n",
      "\n",
      "Résolution de Ax = b :\n",
      "A = [[2, 1], [1, 3]], b = [[5, 6]]\n",
      "Solution x = Matrix([[9/5, 7/5]])\n"
     ]
    }
   ],
   "source": [
    "print(\"\\n### 8. MATRICES ET ALGÈBRE LINÉAIRE ###\\n\")\n",
    "\n",
    "from sympy import Matrix\n",
    "\n",
    "# Création de matrices\n",
    "M = Matrix([[1, 2], [3, 4]])\n",
    "print(f\"Matrice M :\")\n",
    "print(M)\n",
    "\n",
    "# Déterminant\n",
    "det_M = M.det()\n",
    "print(f\"\\nDéterminant : {det_M}\")\n",
    "\n",
    "# Inverse\n",
    "M_inv = M.inv()\n",
    "print(f\"\\nMatrice inverse :\")\n",
    "print(M_inv)\n",
    "\n",
    "# Vérification M * M^(-1) = I\n",
    "identity = M * M_inv\n",
    "print(f\"\\nVérification M·M⁻¹ :\")\n",
    "print(simplify(identity))\n",
    "\n",
    "# Transposée\n",
    "M_T = M.transpose()\n",
    "print(f\"\\nTransposée M^T :\")\n",
    "print(M_T)\n",
    "\n",
    "# Valeurs propres et vecteurs propres\n",
    "eigenvals = M.eigenvals()\n",
    "eigenvects = M.eigenvects()\n",
    "print(f\"\\nValeurs propres : {eigenvals}\")\n",
    "print(f\"Vecteurs propres :\")\n",
    "for eigenval, multiplicity, eigenvector in eigenvects:\n",
    "    print(f\"  λ = {eigenval} (multiplicité {multiplicity}) : {eigenvector[0]}\")\n",
    "\n",
    "# Matrice 3x3 pour plus d'exemples\n",
    "A = Matrix([[1, 2, 3], [4, 5, 6], [7, 8, 9]])\n",
    "print(f\"\\nMatrice A (3×3) :\")\n",
    "print(A)\n",
    "\n",
    "# Rang\n",
    "rank_A = A.rank()\n",
    "print(f\"\\nRang de A : {rank_A}\")\n",
    "\n",
    "# Noyau (nullspace)\n",
    "nullspace_A = A.nullspace()\n",
    "print(f\"\\nNoyau de A :\")\n",
    "for vec in nullspace_A:\n",
    "    print(f\"  {vec.T}\")\n",
    "\n",
    "# Forme échelonnée réduite\n",
    "rref_A, pivot_cols = A.rref()\n",
    "print(f\"\\nForme échelonnée réduite de A :\")\n",
    "print(rref_A)\n",
    "print(f\"Colonnes pivots : {pivot_cols}\")\n",
    "\n",
    "# Décomposition LU\n",
    "L, U, perm = Matrix([[2, 3], [4, 9]]).LUdecomposition()\n",
    "print(f\"\\nDécomposition LU de [[2,3],[4,9]] :\")\n",
    "print(f\"L = {L}\")\n",
    "print(f\"U = {U}\")\n",
    "\n",
    "# Diagonalisation\n",
    "M_diag = Matrix([[3, -2], [-2, 0]])\n",
    "P, D = M_diag.diagonalize()\n",
    "print(f\"\\nDiagonalisation de {M_diag.tolist()} :\")\n",
    "print(f\"P = {P}\")\n",
    "print(f\"D = {D}\")\n",
    "print(f\"Vérification : P·D·P⁻¹ = {simplify(P*D*P.inv())}\")\n",
    "\n",
    "# Opérations matricielles symboliques\n",
    "M_sym = Matrix([[a, b], [c, a]])\n",
    "det_sym = M_sym.det()\n",
    "trace_sym = M_sym.trace()\n",
    "print(f\"\\nMatrice symbolique :\")\n",
    "print(M_sym)\n",
    "print(f\"Déterminant : {det_sym}\")\n",
    "print(f\"Trace : {trace_sym}\")\n",
    "\n",
    "# Puissance de matrice\n",
    "M_power = Matrix([[1, 1], [0, 1]])\n",
    "M_squared = M_power**2\n",
    "M_cubed = M_power**3\n",
    "print(f\"\\nMatrice M = {M_power.tolist()}\")\n",
    "print(f\"M² = {M_squared.tolist()}\")\n",
    "print(f\"M³ = {M_cubed.tolist()}\")\n",
    "\n",
    "# Résolution de système linéaire Ax = b\n",
    "A_sys = Matrix([[2, 1], [1, 3]])\n",
    "b_sys = Matrix([5, 6])\n",
    "x_sol = A_sys.solve(b_sys)\n",
    "print(f\"\\nRésolution de Ax = b :\")\n",
    "print(f\"A = {A_sys.tolist()}, b = {b_sys.T.tolist()}\")\n",
    "print(f\"Solution x = {x_sol.T}\")\n"
   ]
  },
  {
   "attachments": {},
   "cell_type": "markdown",
   "metadata": {},
   "source": [
    "## 10. APPLICATION PRATIQUE"
   ]
  },
  {
   "cell_type": "code",
   "execution_count": 32,
   "metadata": {},
   "outputs": [
    {
     "name": "stdout",
     "output_type": "stream",
     "text": [
      "\n",
      "### 9. EXEMPLE D'APPLICATION ###\n",
      "\n",
      "Problème : Optimisation d'une fonction\n",
      "--------------------------------------------------\n",
      "Fonction : f(x) = x**3 - 6*x**2 + 9*x + 1\n",
      "f'(x) = 3*x**2 - 12*x + 9\n",
      "Points critiques : [1, 3]\n",
      "f''(x) = 6*(x - 2)\n",
      "  x = 1 : maximum local, f(1) = 5\n",
      "  x = 3 : minimum local, f(3) = 1\n"
     ]
    }
   ],
   "source": [
    "print(\"\\n### 9. EXEMPLE D'APPLICATION ###\\n\")\n",
    "print(\"Problème : Optimisation d'une fonction\")\n",
    "print(\"-\" * 50)\n",
    "\n",
    "# Trouver les extrema de f(x) = x³ - 6x² + 9x + 1\n",
    "f = x**3 - 6*x**2 + 9*x + 1\n",
    "print(f\"Fonction : f(x) = {f}\")\n",
    "\n",
    "# Dérivée première\n",
    "f_prime = diff(f, x)\n",
    "print(f\"f'(x) = {f_prime}\")\n",
    "\n",
    "# Points critiques\n",
    "critical_points = solve(f_prime, x)\n",
    "print(f\"Points critiques : {critical_points}\")\n",
    "\n",
    "# Dérivée seconde pour classifier\n",
    "f_double_prime = diff(f, x, 2)\n",
    "print(f\"f''(x) = {f_double_prime}\")\n",
    "\n",
    "for point in critical_points:\n",
    "    second_deriv = f_double_prime.subs(x, point)\n",
    "    nature = \"minimum\" if second_deriv > 0 else \"maximum\"\n",
    "    value = f.subs(x, point)\n",
    "    print(f\"  x = {point} : {nature} local, f({point}) = {value}\")\n"
   ]
  },
  {
   "attachments": {},
   "cell_type": "markdown",
   "metadata": {},
   "source": [
    "## CONCLUSION"
   ]
  },
  {
   "cell_type": "code",
   "execution_count": 33,
   "metadata": {},
   "outputs": [
    {
     "name": "stdout",
     "output_type": "stream",
     "text": [
      "\n",
      "======================================================================\n",
      "CONCLUSION\n",
      "======================================================================\n",
      "\n",
      "SymPy est un outil puissant pour :\n",
      "- Le calcul formel et l'algèbre symbolique\n",
      "- L'analyse mathématique (dérivées, intégrales, limites)\n",
      "- La résolution d'équations algébriques et différentielles\n",
      "- L'algèbre linéaire et les matrices\n",
      "- Les développements en série et bien plus encore\n",
      "\n",
      "Avantages : Solutions exactes, manipulation symbolique, vérification analytique\n",
      "Documentation : https://docs.sympy.org\n",
      "\n"
     ]
    }
   ],
   "source": [
    "print(\"\\n\" + \"=\" * 70)\n",
    "print(\"CONCLUSION\")\n",
    "print(\"=\" * 70)\n",
    "print(\"\"\"\n",
    "SymPy est un outil puissant pour :\n",
    "- Le calcul formel et l'algèbre symbolique\n",
    "- L'analyse mathématique (dérivées, intégrales, limites)\n",
    "- La résolution d'équations algébriques et différentielles\n",
    "- L'algèbre linéaire et les matrices\n",
    "- Les développements en série et bien plus encore\n",
    "\n",
    "Avantages : Solutions exactes, manipulation symbolique, vérification analytique\n",
    "Documentation : https://docs.sympy.org\n",
    "\"\"\")"
   ]
  }
 ],
 "metadata": {
  "kernelspec": {
   "display_name": "Python 3",
   "language": "python",
   "name": "python3"
  },
  "language_info": {
   "codemirror_mode": {
    "name": "ipython",
    "version": 3
   },
   "file_extension": ".py",
   "mimetype": "text/x-python",
   "name": "python",
   "nbconvert_exporter": "python",
   "pygments_lexer": "ipython3",
   "version": "3.11.9"
  },
  "orig_nbformat": 4
 },
 "nbformat": 4,
 "nbformat_minor": 2
}
