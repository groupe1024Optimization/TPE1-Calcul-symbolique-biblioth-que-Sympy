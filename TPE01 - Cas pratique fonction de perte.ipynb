{
 "cells": [
  {
   "cell_type": "markdown",
   "id": "c8116837-e8c3-43dc-a9d6-83b8afe55939",
   "metadata": {},
   "source": [
    "## ``INFO4127`` : OPTIMISATION II"
   ]
  },
  {
   "cell_type": "markdown",
   "id": "00c9cfa9-318b-4c90-be87-0acadc6efa7f",
   "metadata": {},
   "source": [
    "# TP1 : Utilisation des outils de calcul symbolique sur les fonctions de perte"
   ]
  },
  {
   "cell_type": "markdown",
   "id": "e791787c-2cb6-48cb-96a6-9aa5755606fe",
   "metadata": {},
   "source": [
    "### Membres du groupe :\n",
    "- MVOGO MONDOMAN Franck Stéphane : ``20Y058``\n",
    "- ETOUNDI TSANGA ELIHU FREDERIC : ``22Y567``\n",
    "- ABANDA ARMAND WILFRIED : ``21T2487``"
   ]
  },
  {
   "cell_type": "markdown",
   "id": "e840e4cc-5f96-4bdb-9e3d-882db7b6cccd",
   "metadata": {},
   "source": [
    "### Introduction\n",
    "\n",
    "**Une fonction de perte** est un processus mathématique qui quantifie la marge d'erreur entre la prédiction d'un modèle et la valeur cible réelle. Elle est un moyen mesurable d'évaluer les performances et la précision d'un modèle d'apprentissage automatique.\n",
    "\n",
    "Dans la suite de ce notebook, pour chacune des fonctions de pertes suivantes :\n",
    "- Erreur Quadratique Moyenne\n",
    "- Entropie Croisée Binaire\n",
    "- Entropie Croisée Catégorielle\n",
    "- Perte de Huber\n",
    "\n",
    "Nous allons à l'aide des fonctions de calcul symbolique du langage python :\n",
    "1. Fournir les expressions des gradients de ces fonctions.\n",
    "2. Étudier les propriétés de convexité des fonctions\n",
    "3. Représenter les courbes de ses fonctions et Trouver l'équation de la tangente à l'ellipse au point de coordonnées données sur un jeu de données dédiées.\n",
    " "
   ]
  },
  {
   "cell_type": "markdown",
   "id": "3b7236a4-9f6d-443a-8312-44acf739168f",
   "metadata": {},
   "source": [
    "### Outils utilisés\n",
    "- Python 3.13.5\n",
    "- Sympy 1.14.0\n",
    "- Matplotlib"
   ]
  },
  {
   "cell_type": "code",
   "execution_count": null,
   "id": "72fd5175-ae98-4d00-ae75-acf8a0340c66",
   "metadata": {},
   "outputs": [],
   "source": [
    "# Importations des bibliothèques nécessaires\n",
    "import sympy as sp\n",
    "import matplotlib.pyplot as plt"
   ]
  },
  {
   "cell_type": "markdown",
   "id": "ee6b2bdf-bb34-46b7-b7d6-ac0ee3035cca",
   "metadata": {},
   "source": [
    "### Présentations des jeux de données pour l'étude graphique\n",
    "\n",
    "##### 1. Jeu de données pour la classification  \n",
    "- **Nom** : Apples and Oranges  \n",
    "- **Lien** : [Kaggle – Apples and Oranges](https://www.kaggle.com/code/raykleptzo/classification-data-apples-and-oranges/input)  \n",
    "- **Colonnes** :  \n",
    "  - `weight` : poids du fruit  \n",
    "  - `size` : taille du fruit  \n",
    "  - `class` : étiquette de classification (pomme ou orange)  \n",
    "- **Taille** : 73 observations  \n",
    "\n",
    "---\n",
    "\n",
    "##### 2. Jeu de données pour la régression  \n",
    "- **Nom** : Multiple Linear Regression Dataset  \n",
    "- **Lien** : [Kaggle – Multiple Linear Regression Dataset](https://www.kaggle.com/datasets/hussainnasirkhan/multiple-linear-regression-dataset?resource=download)  \n",
    "- **Colonnes** :  \n",
    "  - `age` : âge de la personne  \n",
    "  - `experience` : nombre d’années d’expérience  \n",
    "  - `income` : revenu (variable cible pour la régression)  \n",
    "- **Taille** : 20 observations  \n"
   ]
  },
  {
   "cell_type": "markdown",
   "id": "f7a2c883-430c-4e93-80bf-9627131d8da0",
   "metadata": {},
   "source": [
    "### I. Erreur Quadratique Moyenne (MSE)\n",
    "\n",
    "LA MSE est une est une fonction de perte qui quantifie l'ampleur de l'erreur entre la prédiction d'un algorithme d'apprentissage automatique et une sortie réelle en prenant la moyenne de la différence quadratique entre les prédictions et les valeurs cibles.\n",
    "Son expression est la suivante :\n",
    "**MSE = (1/n) * Σ(yᵢ - ȳ)²**\n",
    "\n",
    "Où ?\n",
    "\n",
    "- n est le nombre d'échantillons dans l'ensemble de données\n",
    "- yᵢ est la valeur prédite pour le i-ième échantillon\n",
    "- ȳ est la valeur cible pour le i-ième échantillon"
   ]
  },
  {
   "cell_type": "code",
   "execution_count": 8,
   "id": "02161389-b432-49c1-a1a6-3193a99f02ef",
   "metadata": {},
   "outputs": [],
   "source": [
    "n = sp.symbols('n', integer=True)\n",
    "y = sp.symbols('y0:%d' % n)       # y0, y1, ..., y_{n-1}\n",
    "y_hat = sp.symbols('y_hat0:%d' % n)  # y_hat0, ..., y_hat_{n-1}\n",
    "\n",
    "MSE_total = sum((y[i] - y_hat[i])**2 for i in range(n)) / n\n",
    "\n",
    "# Gradient vectoriel\n",
    "MSE_grad = [sp.diff(MSE_total, y_hat[i]) for i in range(n)]\n",
    "\n",
    "# Hessienne (matrice diagonale ici)\n",
    "MSE_hessian = sp.Matrix([[sp.diff(MSE_grad[i], y_hat[j]) for j in range(n)] for i in range(n)])\n"
   ]
  },
  {
   "cell_type": "code",
   "execution_count": 15,
   "id": "bde0af1c-10de-4a91-9124-ef89cf45777e",
   "metadata": {},
   "outputs": [
    {
     "name": "stdout",
     "output_type": "stream",
     "text": [
      "Fonction MSE : \n",
      " Sum((y[i] - y_hat[i])**2/n, (i, 0, n - 1))\n",
      "Gradient : \n",
      " -2*y + 2*y_hat\n",
      "Hessienne : \n",
      " 2\n"
     ]
    }
   ],
   "source": [
    "print(f\"Fonction MSE : \\n {MSE_total}\")\n",
    "print(f\"Gradient : \\n {MSE_grad}\")\n",
    "print(f\"Hessienne : \\n {MSE_hessian}\")"
   ]
  },
  {
   "cell_type": "markdown",
   "id": "e9261183-7df3-4762-b681-b8179eb8b544",
   "metadata": {},
   "source": [
    "Cette fonction est convexe car la matrice hessienne est définie positive"
   ]
  },
  {
   "cell_type": "code",
   "execution_count": null,
   "id": "f2987342-a6d2-4644-a5ca-b862d652aa72",
   "metadata": {},
   "outputs": [],
   "source": []
  }
 ],
 "metadata": {
  "kernelspec": {
   "display_name": "Python 3 (ipykernel)",
   "language": "python",
   "name": "python3"
  },
  "language_info": {
   "codemirror_mode": {
    "name": "ipython",
    "version": 3
   },
   "file_extension": ".py",
   "mimetype": "text/x-python",
   "name": "python",
   "nbconvert_exporter": "python",
   "pygments_lexer": "ipython3",
   "version": "3.13.5"
  }
 },
 "nbformat": 4,
 "nbformat_minor": 5
}
